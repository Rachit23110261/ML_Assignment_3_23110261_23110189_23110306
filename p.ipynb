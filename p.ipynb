{
 "cells": [
  {
   "cell_type": "code",
   "execution_count": 1,
   "metadata": {},
   "outputs": [
    {
     "name": "stdout",
     "output_type": "stream",
     "text": [
      "Collecting streamlit\n",
      "  Downloading streamlit-1.39.0-py2.py3-none-any.whl.metadata (8.5 kB)\n",
      "Collecting altair<6,>=4.0 (from streamlit)\n",
      "  Downloading altair-5.4.1-py3-none-any.whl.metadata (9.4 kB)\n",
      "Requirement already satisfied: blinker<2,>=1.0.0 in c:\\users\\rachi\\appdata\\local\\packages\\pythonsoftwarefoundation.python.3.11_qbz5n2kfra8p0\\localcache\\local-packages\\python311\\site-packages (from streamlit) (1.7.0)\n",
      "Collecting cachetools<6,>=4.0 (from streamlit)\n",
      "  Downloading cachetools-5.5.0-py3-none-any.whl.metadata (5.3 kB)\n",
      "Requirement already satisfied: click<9,>=7.0 in c:\\users\\rachi\\appdata\\local\\packages\\pythonsoftwarefoundation.python.3.11_qbz5n2kfra8p0\\localcache\\local-packages\\python311\\site-packages (from streamlit) (8.1.7)\n",
      "Requirement already satisfied: numpy<3,>=1.20 in c:\\users\\rachi\\appdata\\local\\packages\\pythonsoftwarefoundation.python.3.11_qbz5n2kfra8p0\\localcache\\local-packages\\python311\\site-packages (from streamlit) (1.26.2)\n",
      "Requirement already satisfied: packaging<25,>=20 in c:\\users\\rachi\\appdata\\local\\packages\\pythonsoftwarefoundation.python.3.11_qbz5n2kfra8p0\\localcache\\local-packages\\python311\\site-packages (from streamlit) (23.2)\n",
      "Requirement already satisfied: pandas<3,>=1.4.0 in c:\\users\\rachi\\appdata\\local\\packages\\pythonsoftwarefoundation.python.3.11_qbz5n2kfra8p0\\localcache\\local-packages\\python311\\site-packages (from streamlit) (2.1.3)\n",
      "Requirement already satisfied: pillow<11,>=7.1.0 in c:\\users\\rachi\\appdata\\local\\packages\\pythonsoftwarefoundation.python.3.11_qbz5n2kfra8p0\\localcache\\local-packages\\python311\\site-packages (from streamlit) (10.4.0)\n",
      "Collecting protobuf<6,>=3.20 (from streamlit)\n",
      "  Downloading protobuf-5.28.3-cp310-abi3-win_amd64.whl.metadata (592 bytes)\n",
      "Collecting pyarrow>=7.0 (from streamlit)\n",
      "  Downloading pyarrow-17.0.0-cp311-cp311-win_amd64.whl.metadata (3.4 kB)\n",
      "Requirement already satisfied: requests<3,>=2.27 in c:\\users\\rachi\\appdata\\local\\packages\\pythonsoftwarefoundation.python.3.11_qbz5n2kfra8p0\\localcache\\local-packages\\python311\\site-packages (from streamlit) (2.31.0)\n",
      "Collecting rich<14,>=10.14.0 (from streamlit)\n",
      "  Downloading rich-13.9.3-py3-none-any.whl.metadata (18 kB)\n",
      "Requirement already satisfied: tenacity<10,>=8.1.0 in c:\\users\\rachi\\appdata\\local\\packages\\pythonsoftwarefoundation.python.3.11_qbz5n2kfra8p0\\localcache\\local-packages\\python311\\site-packages (from streamlit) (8.5.0)\n",
      "Collecting toml<2,>=0.10.1 (from streamlit)\n",
      "  Downloading toml-0.10.2-py2.py3-none-any.whl.metadata (7.1 kB)\n",
      "Requirement already satisfied: typing-extensions<5,>=4.3.0 in c:\\users\\rachi\\appdata\\local\\packages\\pythonsoftwarefoundation.python.3.11_qbz5n2kfra8p0\\localcache\\local-packages\\python311\\site-packages (from streamlit) (4.9.0)\n",
      "Collecting gitpython!=3.1.19,<4,>=3.0.7 (from streamlit)\n",
      "  Downloading GitPython-3.1.43-py3-none-any.whl.metadata (13 kB)\n",
      "Collecting pydeck<1,>=0.8.0b4 (from streamlit)\n",
      "  Downloading pydeck-0.9.1-py2.py3-none-any.whl.metadata (4.1 kB)\n",
      "Requirement already satisfied: tornado<7,>=6.0.3 in c:\\users\\rachi\\appdata\\local\\packages\\pythonsoftwarefoundation.python.3.11_qbz5n2kfra8p0\\localcache\\local-packages\\python311\\site-packages (from streamlit) (6.4)\n",
      "Collecting watchdog<6,>=2.1.5 (from streamlit)\n",
      "  Downloading watchdog-5.0.3-py3-none-win_amd64.whl.metadata (41 kB)\n",
      "Requirement already satisfied: jinja2 in c:\\users\\rachi\\appdata\\local\\packages\\pythonsoftwarefoundation.python.3.11_qbz5n2kfra8p0\\localcache\\local-packages\\python311\\site-packages (from altair<6,>=4.0->streamlit) (3.1.3)\n",
      "Requirement already satisfied: jsonschema>=3.0 in c:\\users\\rachi\\appdata\\local\\packages\\pythonsoftwarefoundation.python.3.11_qbz5n2kfra8p0\\localcache\\local-packages\\python311\\site-packages (from altair<6,>=4.0->streamlit) (4.20.0)\n",
      "Collecting narwhals>=1.5.2 (from altair<6,>=4.0->streamlit)\n",
      "  Downloading narwhals-1.10.0-py3-none-any.whl.metadata (7.0 kB)\n",
      "Collecting typing-extensions<5,>=4.3.0 (from streamlit)\n",
      "  Using cached typing_extensions-4.12.2-py3-none-any.whl.metadata (3.0 kB)\n",
      "Requirement already satisfied: colorama in c:\\users\\rachi\\appdata\\local\\packages\\pythonsoftwarefoundation.python.3.11_qbz5n2kfra8p0\\localcache\\local-packages\\python311\\site-packages (from click<9,>=7.0->streamlit) (0.4.6)\n",
      "Collecting gitdb<5,>=4.0.1 (from gitpython!=3.1.19,<4,>=3.0.7->streamlit)\n",
      "  Downloading gitdb-4.0.11-py3-none-any.whl.metadata (1.2 kB)\n",
      "Requirement already satisfied: python-dateutil>=2.8.2 in c:\\users\\rachi\\appdata\\local\\packages\\pythonsoftwarefoundation.python.3.11_qbz5n2kfra8p0\\localcache\\local-packages\\python311\\site-packages (from pandas<3,>=1.4.0->streamlit) (2.8.2)\n",
      "Requirement already satisfied: pytz>=2020.1 in c:\\users\\rachi\\appdata\\local\\packages\\pythonsoftwarefoundation.python.3.11_qbz5n2kfra8p0\\localcache\\local-packages\\python311\\site-packages (from pandas<3,>=1.4.0->streamlit) (2023.3.post1)\n",
      "Requirement already satisfied: tzdata>=2022.1 in c:\\users\\rachi\\appdata\\local\\packages\\pythonsoftwarefoundation.python.3.11_qbz5n2kfra8p0\\localcache\\local-packages\\python311\\site-packages (from pandas<3,>=1.4.0->streamlit) (2023.3)\n",
      "Requirement already satisfied: charset-normalizer<4,>=2 in c:\\users\\rachi\\appdata\\local\\packages\\pythonsoftwarefoundation.python.3.11_qbz5n2kfra8p0\\localcache\\local-packages\\python311\\site-packages (from requests<3,>=2.27->streamlit) (3.3.2)\n",
      "Requirement already satisfied: idna<4,>=2.5 in c:\\users\\rachi\\appdata\\local\\packages\\pythonsoftwarefoundation.python.3.11_qbz5n2kfra8p0\\localcache\\local-packages\\python311\\site-packages (from requests<3,>=2.27->streamlit) (3.6)\n",
      "Requirement already satisfied: urllib3<3,>=1.21.1 in c:\\users\\rachi\\appdata\\local\\packages\\pythonsoftwarefoundation.python.3.11_qbz5n2kfra8p0\\localcache\\local-packages\\python311\\site-packages (from requests<3,>=2.27->streamlit) (2.1.0)\n",
      "Requirement already satisfied: certifi>=2017.4.17 in c:\\users\\rachi\\appdata\\local\\packages\\pythonsoftwarefoundation.python.3.11_qbz5n2kfra8p0\\localcache\\local-packages\\python311\\site-packages (from requests<3,>=2.27->streamlit) (2023.11.17)\n",
      "Collecting markdown-it-py>=2.2.0 (from rich<14,>=10.14.0->streamlit)\n",
      "  Using cached markdown_it_py-3.0.0-py3-none-any.whl.metadata (6.9 kB)\n",
      "Requirement already satisfied: pygments<3.0.0,>=2.13.0 in c:\\users\\rachi\\appdata\\local\\packages\\pythonsoftwarefoundation.python.3.11_qbz5n2kfra8p0\\localcache\\local-packages\\python311\\site-packages (from rich<14,>=10.14.0->streamlit) (2.17.2)\n",
      "Collecting smmap<6,>=3.0.1 (from gitdb<5,>=4.0.1->gitpython!=3.1.19,<4,>=3.0.7->streamlit)\n",
      "  Downloading smmap-5.0.1-py3-none-any.whl.metadata (4.3 kB)\n",
      "Requirement already satisfied: MarkupSafe>=2.0 in c:\\users\\rachi\\appdata\\local\\packages\\pythonsoftwarefoundation.python.3.11_qbz5n2kfra8p0\\localcache\\local-packages\\python311\\site-packages (from jinja2->altair<6,>=4.0->streamlit) (2.1.3)\n",
      "Requirement already satisfied: attrs>=22.2.0 in c:\\users\\rachi\\appdata\\local\\packages\\pythonsoftwarefoundation.python.3.11_qbz5n2kfra8p0\\localcache\\local-packages\\python311\\site-packages (from jsonschema>=3.0->altair<6,>=4.0->streamlit) (23.1.0)\n",
      "Requirement already satisfied: jsonschema-specifications>=2023.03.6 in c:\\users\\rachi\\appdata\\local\\packages\\pythonsoftwarefoundation.python.3.11_qbz5n2kfra8p0\\localcache\\local-packages\\python311\\site-packages (from jsonschema>=3.0->altair<6,>=4.0->streamlit) (2023.11.2)\n",
      "Requirement already satisfied: referencing>=0.28.4 in c:\\users\\rachi\\appdata\\local\\packages\\pythonsoftwarefoundation.python.3.11_qbz5n2kfra8p0\\localcache\\local-packages\\python311\\site-packages (from jsonschema>=3.0->altair<6,>=4.0->streamlit) (0.31.1)\n",
      "Requirement already satisfied: rpds-py>=0.7.1 in c:\\users\\rachi\\appdata\\local\\packages\\pythonsoftwarefoundation.python.3.11_qbz5n2kfra8p0\\localcache\\local-packages\\python311\\site-packages (from jsonschema>=3.0->altair<6,>=4.0->streamlit) (0.13.2)\n",
      "Collecting mdurl~=0.1 (from markdown-it-py>=2.2.0->rich<14,>=10.14.0->streamlit)\n",
      "  Using cached mdurl-0.1.2-py3-none-any.whl.metadata (1.6 kB)\n",
      "Requirement already satisfied: six>=1.5 in c:\\users\\rachi\\appdata\\local\\packages\\pythonsoftwarefoundation.python.3.11_qbz5n2kfra8p0\\localcache\\local-packages\\python311\\site-packages (from python-dateutil>=2.8.2->pandas<3,>=1.4.0->streamlit) (1.16.0)\n",
      "Downloading streamlit-1.39.0-py2.py3-none-any.whl (8.7 MB)\n",
      "   ---------------------------------------- 0.0/8.7 MB ? eta -:--:--\n",
      "   -- ------------------------------------- 0.5/8.7 MB 4.2 MB/s eta 0:00:02\n",
      "   ----- ---------------------------------- 1.3/8.7 MB 4.0 MB/s eta 0:00:02\n",
      "   ---------- ----------------------------- 2.4/8.7 MB 4.1 MB/s eta 0:00:02\n",
      "   -------------- ------------------------- 3.1/8.7 MB 4.0 MB/s eta 0:00:02\n",
      "   ----------------- ---------------------- 3.9/8.7 MB 4.0 MB/s eta 0:00:02\n",
      "   --------------------- ------------------ 4.7/8.7 MB 3.9 MB/s eta 0:00:02\n",
      "   ------------------------- -------------- 5.5/8.7 MB 3.9 MB/s eta 0:00:01\n",
      "   ---------------------------- ----------- 6.3/8.7 MB 3.9 MB/s eta 0:00:01\n",
      "   --------------------------------- ------ 7.3/8.7 MB 3.9 MB/s eta 0:00:01\n",
      "   -------------------------------------- - 8.4/8.7 MB 3.9 MB/s eta 0:00:01\n",
      "   ---------------------------------------- 8.7/8.7 MB 3.8 MB/s eta 0:00:00\n",
      "Downloading altair-5.4.1-py3-none-any.whl (658 kB)\n",
      "   ---------------------------------------- 0.0/658.1 kB ? eta -:--:--\n",
      "   ---------------------------------------- 658.1/658.1 kB 3.6 MB/s eta 0:00:00\n",
      "Downloading cachetools-5.5.0-py3-none-any.whl (9.5 kB)\n",
      "Downloading GitPython-3.1.43-py3-none-any.whl (207 kB)\n",
      "Downloading protobuf-5.28.3-cp310-abi3-win_amd64.whl (431 kB)\n",
      "Downloading pyarrow-17.0.0-cp311-cp311-win_amd64.whl (25.2 MB)\n",
      "   ---------------------------------------- 0.0/25.2 MB ? eta -:--:--\n",
      "   ---------------------------------------- 0.3/25.2 MB ? eta -:--:--\n",
      "   -- ------------------------------------- 1.3/25.2 MB 3.7 MB/s eta 0:00:07\n",
      "   --- ------------------------------------ 2.4/25.2 MB 3.8 MB/s eta 0:00:06\n",
      "   ----- ---------------------------------- 3.1/25.2 MB 3.8 MB/s eta 0:00:06\n",
      "   ----- ---------------------------------- 3.7/25.2 MB 3.6 MB/s eta 0:00:07\n",
      "   ----- ---------------------------------- 3.7/25.2 MB 3.6 MB/s eta 0:00:07\n",
      "   ------- -------------------------------- 4.5/25.2 MB 3.0 MB/s eta 0:00:07\n",
      "   -------- ------------------------------- 5.5/25.2 MB 3.2 MB/s eta 0:00:07\n",
      "   ---------- ----------------------------- 6.3/25.2 MB 3.2 MB/s eta 0:00:06\n",
      "   ----------- ---------------------------- 7.1/25.2 MB 3.3 MB/s eta 0:00:06\n",
      "   ------------ --------------------------- 7.9/25.2 MB 3.4 MB/s eta 0:00:06\n",
      "   -------------- ------------------------- 8.9/25.2 MB 3.4 MB/s eta 0:00:05\n",
      "   --------------- ------------------------ 9.7/25.2 MB 3.5 MB/s eta 0:00:05\n",
      "   ---------------- ----------------------- 10.5/25.2 MB 3.5 MB/s eta 0:00:05\n",
      "   ----------------- ---------------------- 11.3/25.2 MB 3.5 MB/s eta 0:00:04\n",
      "   ------------------- -------------------- 12.3/25.2 MB 3.6 MB/s eta 0:00:04\n",
      "   -------------------- ------------------- 13.1/25.2 MB 3.6 MB/s eta 0:00:04\n",
      "   ---------------------- ----------------- 13.9/25.2 MB 3.6 MB/s eta 0:00:04\n",
      "   ---------------------- ----------------- 14.4/25.2 MB 3.6 MB/s eta 0:00:03\n",
      "   ----------------------- ---------------- 14.7/25.2 MB 3.4 MB/s eta 0:00:04\n",
      "   ------------------------- -------------- 15.7/25.2 MB 3.5 MB/s eta 0:00:03\n",
      "   -------------------------- ------------- 16.8/25.2 MB 3.5 MB/s eta 0:00:03\n",
      "   --------------------------- ------------ 17.6/25.2 MB 3.5 MB/s eta 0:00:03\n",
      "   ----------------------------- ---------- 18.4/25.2 MB 3.6 MB/s eta 0:00:02\n",
      "   ------------------------------ --------- 19.4/25.2 MB 3.6 MB/s eta 0:00:02\n",
      "   -------------------------------- ------- 20.2/25.2 MB 3.6 MB/s eta 0:00:02\n",
      "   -------------------------------- ------- 20.2/25.2 MB 3.6 MB/s eta 0:00:02\n",
      "   ---------------------------------- ----- 21.5/25.2 MB 3.5 MB/s eta 0:00:02\n",
      "   ----------------------------------- ---- 22.3/25.2 MB 3.5 MB/s eta 0:00:01\n",
      "   ------------------------------------- -- 23.3/25.2 MB 3.6 MB/s eta 0:00:01\n",
      "   -------------------------------------- - 24.1/25.2 MB 3.6 MB/s eta 0:00:01\n",
      "   ---------------------------------------  24.9/25.2 MB 3.6 MB/s eta 0:00:01\n",
      "   ---------------------------------------- 25.2/25.2 MB 3.5 MB/s eta 0:00:00\n",
      "Downloading pydeck-0.9.1-py2.py3-none-any.whl (6.9 MB)\n",
      "   ---------------------------------------- 0.0/6.9 MB ? eta -:--:--\n",
      "   --- ------------------------------------ 0.5/6.9 MB 1.9 MB/s eta 0:00:04\n",
      "   ---------- ----------------------------- 1.8/6.9 MB 3.9 MB/s eta 0:00:02\n",
      "   --------------- ------------------------ 2.6/6.9 MB 4.0 MB/s eta 0:00:02\n",
      "   ------------------- -------------------- 3.4/6.9 MB 3.9 MB/s eta 0:00:01\n",
      "   ------------------------- -------------- 4.5/6.9 MB 3.9 MB/s eta 0:00:01\n",
      "   ------------------------------ --------- 5.2/6.9 MB 3.9 MB/s eta 0:00:01\n",
      "   ---------------------------------- ----- 6.0/6.9 MB 3.9 MB/s eta 0:00:01\n",
      "   ---------------------------------- ----- 6.0/6.9 MB 3.9 MB/s eta 0:00:01\n",
      "   ------------------------------------- -- 6.6/6.9 MB 3.3 MB/s eta 0:00:01\n",
      "   ---------------------------------------- 6.9/6.9 MB 3.1 MB/s eta 0:00:00\n",
      "Downloading rich-13.9.3-py3-none-any.whl (242 kB)\n",
      "Downloading toml-0.10.2-py2.py3-none-any.whl (16 kB)\n",
      "Using cached typing_extensions-4.12.2-py3-none-any.whl (37 kB)\n",
      "Downloading watchdog-5.0.3-py3-none-win_amd64.whl (79 kB)\n",
      "Downloading gitdb-4.0.11-py3-none-any.whl (62 kB)\n",
      "Downloading markdown_it_py-3.0.0-py3-none-any.whl (87 kB)\n",
      "Downloading narwhals-1.10.0-py3-none-any.whl (193 kB)\n",
      "Downloading mdurl-0.1.2-py3-none-any.whl (10.0 kB)\n",
      "Downloading smmap-5.0.1-py3-none-any.whl (24 kB)\n",
      "Installing collected packages: watchdog, typing-extensions, toml, smmap, pyarrow, protobuf, narwhals, mdurl, cachetools, pydeck, markdown-it-py, gitdb, rich, gitpython, altair, streamlit\n",
      "  Attempting uninstall: typing-extensions\n",
      "    Found existing installation: typing_extensions 4.9.0\n",
      "    Uninstalling typing_extensions-4.9.0:\n",
      "      Successfully uninstalled typing_extensions-4.9.0\n",
      "Successfully installed altair-5.4.1 cachetools-5.5.0 gitdb-4.0.11 gitpython-3.1.43 markdown-it-py-3.0.0 mdurl-0.1.2 narwhals-1.10.0 protobuf-5.28.3 pyarrow-17.0.0 pydeck-0.9.1 rich-13.9.3 smmap-5.0.1 streamlit-1.39.0 toml-0.10.2 typing-extensions-4.12.2 watchdog-5.0.3\n",
      "Note: you may need to restart the kernel to use updated packages.\n"
     ]
    }
   ],
   "source": [
    "pip install streamlit\n"
   ]
  },
  {
   "cell_type": "code",
   "execution_count": 3,
   "metadata": {},
   "outputs": [],
   "source": [
    "import torch\n",
    "import torch.nn.functional as F\n",
    "from torch import nn\n",
    "import pandas as pd\n",
    "import matplotlib.pyplot as plt # for making figures\n",
    "%matplotlib inline\n",
    "%config InlineBackend.figure_format = 'retina'\n",
    "from pprint import pprint"
   ]
  },
  {
   "cell_type": "code",
   "execution_count": 5,
   "metadata": {},
   "outputs": [
    {
     "name": "stdout",
     "output_type": "stream",
     "text": [
      "3196232\n"
     ]
    }
   ],
   "source": [
    "# Specify the file path\n",
    "file_path = 'warpeace_input.txt'  # Update with your actual file name\n",
    "\n",
    "# Open and read the contents of the .txt file\n",
    "with open(file_path, 'r') as file:\n",
    "    data = file.read()\n",
    "\n",
    "# Display the content\n",
    "print(len(data))"
   ]
  },
  {
   "cell_type": "code",
   "execution_count": 6,
   "metadata": {},
   "outputs": [
    {
     "name": "stdout",
     "output_type": "stream",
     "text": [
      "Text cleaned and saved to cleaned_text.txt\n"
     ]
    }
   ],
   "source": [
    "import re\n",
    "\n",
    "# Define the regular expression to clean each line\n",
    "def clean_line(line):\n",
    "    # Modify this regex depending on the type of text/code you're processing\n",
    "    return re.sub('[^a-zA-Z0-9 \\.]', '', line)\n",
    "\n",
    "# File paths\n",
    "  # Input text file with special characters\n",
    "output_file = 'cleaned_text.txt'  # Output file to write cleaned content\n",
    "\n",
    "# Open the input file and clean each line\n",
    "with open(file_path, 'r') as file:\n",
    "    # Open output file to write cleaned lines\n",
    "    with open(output_file, 'w') as cleaned_file:\n",
    "        for line in file:\n",
    "            # Clean the current line using the clean_line function\n",
    "            cleaned_line = clean_line(line)\n",
    "            # Write the cleaned line to the new file\n",
    "            cleaned_file.write(cleaned_line + '\\n')\n",
    "\n",
    "print(f\"Text cleaned and saved to {output_file}\")\n"
   ]
  },
  {
   "cell_type": "code",
   "execution_count": 7,
   "metadata": {},
   "outputs": [
    {
     "name": "stdout",
     "output_type": "stream",
     "text": [
      "3114026\n",
      "Well Prince so Genoa and Lucca are now just family estates of the\n",
      "Buonapartes. But I warn you if you dont tell me that this means war\n",
      "if you still try to defend the infamies and horrors perpetrated by that\n",
      "AntichristI really believe he is AntichristI will have nothing more\n",
      "to do with you and you are no longer my friend no longer my faithful\n",
      "slave as you call yourself But how do you do I see I have frightened\n",
      "yousit down and tell me all the news.\n",
      "\n",
      "It was in July 1805 and the speaker was the wellknown Anna Pavlovna\n",
      "Scherer maid of honor and favorite of the Empress Marya Fedorovna. With\n",
      "these words she greeted Prince Vasili Kuragin a man of high rank and\n",
      "importance who was the first to arrive at her reception. Anna Pavlovna\n",
      "had had a cough for some days. She was as she said suffering from la\n",
      "grippe grippe being then a new word in St. Petersburg used only by the\n",
      "elite.\n",
      "\n",
      "All her invitations without exception written in French and delivered\n",
      "by a scarletliveried footman that morning ran as fo\n"
     ]
    }
   ],
   "source": [
    "with open('cleaned_text.txt', 'r') as file:\n",
    "    cleaned_data = file.read()\n",
    "print(len(cleaned_data))\n",
    "print(cleaned_data[:1000])\n"
   ]
  },
  {
   "cell_type": "code",
   "execution_count": 8,
   "metadata": {},
   "outputs": [
    {
     "name": "stdout",
     "output_type": "stream",
     "text": [
      "Text cleaned and saved to lower_cased_cleaned_text.txt\n"
     ]
    }
   ],
   "source": [
    "output_file = 'lower_cased_cleaned_text.txt'\n",
    "with open('cleaned_text.txt', 'r') as file:\n",
    "    # Open output file to write cleaned lines\n",
    "    with open(output_file, 'w') as cleaned_file:\n",
    "        for line in file:\n",
    "            # Clean the current line using the clean_line function\n",
    "            cleaned_file.write(line.lower())\n",
    "            \n",
    "            \n",
    "\n",
    "print(f\"Text cleaned and saved to {output_file}\")"
   ]
  },
  {
   "cell_type": "code",
   "execution_count": 9,
   "metadata": {},
   "outputs": [
    {
     "name": "stdout",
     "output_type": "stream",
     "text": [
      "25673\n",
      "62015\n"
     ]
    }
   ],
   "source": [
    "unique_words = set()\n",
    "lines_dataset = []\n",
    "with open('lower_cased_cleaned_text.txt', 'r') as file:\n",
    "    lines = file.readlines()\n",
    "    lines_dataset = lines\n",
    "    for line in lines:\n",
    "        unique_words.update(line.split())\n",
    "        \n",
    "print(len(unique_words))\n",
    "print(len(lines_dataset))"
   ]
  },
  {
   "cell_type": "code",
   "execution_count": 10,
   "metadata": {},
   "outputs": [
    {
     "name": "stdout",
     "output_type": "stream",
     "text": [
      "25674\n"
     ]
    }
   ],
   "source": [
    "from pprint import pprint\n",
    "\n",
    "# Assuming 'words' is a list of unique words you obtained from the previous step\n",
    "words = sorted(list(set(unique_words)))  # unique_words is from the previous processing\n",
    "\n",
    "# Create mappings for words to integers and vice versa\n",
    "stoi = {word: i + 1 for i, word in enumerate(words)}  # Word to index mapping\n",
    "stoi['<PAD>'] = 0  # Optional: Add a padding token if needed\n",
    "itos = {i: word for word, i in stoi.items()}  # Index to word mapping\n",
    "\n",
    "# Print the index to word mapping\n",
    "pprint(len(itos))\n"
   ]
  },
  {
   "cell_type": "code",
   "execution_count": null,
   "metadata": {},
   "outputs": [],
   "source": [
    "import re\n",
    "\n",
    "# Define the regular expression to clean each line\n",
    "def clean_line(line):\n",
    "    # Modify this regex depending on the type of text/code you're processing\n",
    "    return re.sub('[^a-zA-Z0-9 \\.]', '', line)\n",
    "\n",
    "# File paths\n",
    "  # Input text file with special characters\n",
    "output_file = 'cleaned_text.txt'  # Output file to write cleaned content\n",
    "\n",
    "# Open the input file and clean each line\n",
    "with open(file_path, 'r') as file:\n",
    "    # Open output file to write cleaned lines\n",
    "    with open(output_file, 'w') as cleaned_file:\n",
    "        for line in file:\n",
    "            # Clean the current line using the clean_line function\n",
    "            cleaned_line = clean_line(line)\n",
    "            # Write the cleaned line to the new file\n",
    "            cleaned_file.write(cleaned_line + '\\n')\n",
    "\n",
    "print(f\"Text cleaned and saved to {output_file}\")\n"
   ]
  },
  {
   "cell_type": "code",
   "execution_count": 2,
   "metadata": {},
   "outputs": [
    {
     "name": "stderr",
     "output_type": "stream",
     "text": [
      "2024-10-24 19:19:00.348 WARNING streamlit.runtime.scriptrunner_utils.script_run_context: Thread 'MainThread': missing ScriptRunContext! This warning can be ignored when running in bare mode.\n",
      "2024-10-24 19:19:00.702 \n",
      "  \u001b[33m\u001b[1mWarning:\u001b[0m to view this Streamlit app on a browser, run it with the following\n",
      "  command:\n",
      "\n",
      "    streamlit run C:\\Users\\rachi\\AppData\\Local\\Packages\\PythonSoftwareFoundation.Python.3.11_qbz5n2kfra8p0\\LocalCache\\local-packages\\Python311\\site-packages\\ipykernel_launcher.py [ARGUMENTS]\n",
      "2024-10-24 19:19:00.705 Thread 'MainThread': missing ScriptRunContext! This warning can be ignored when running in bare mode.\n",
      "2024-10-24 19:19:00.707 Thread 'MainThread': missing ScriptRunContext! This warning can be ignored when running in bare mode.\n",
      "2024-10-24 19:19:00.708 Thread 'MainThread': missing ScriptRunContext! This warning can be ignored when running in bare mode.\n",
      "2024-10-24 19:19:00.709 Thread 'MainThread': missing ScriptRunContext! This warning can be ignored when running in bare mode.\n",
      "2024-10-24 19:19:00.710 Thread 'MainThread': missing ScriptRunContext! This warning can be ignored when running in bare mode.\n",
      "2024-10-24 19:19:00.712 Session state does not function when running a script without `streamlit run`\n",
      "2024-10-24 19:19:00.713 Thread 'MainThread': missing ScriptRunContext! This warning can be ignored when running in bare mode.\n",
      "2024-10-24 19:19:00.714 Thread 'MainThread': missing ScriptRunContext! This warning can be ignored when running in bare mode.\n",
      "2024-10-24 19:19:00.717 Thread 'MainThread': missing ScriptRunContext! This warning can be ignored when running in bare mode.\n",
      "2024-10-24 19:19:00.721 Thread 'MainThread': missing ScriptRunContext! This warning can be ignored when running in bare mode.\n",
      "2024-10-24 19:19:00.723 Thread 'MainThread': missing ScriptRunContext! This warning can be ignored when running in bare mode.\n",
      "2024-10-24 19:19:00.729 Thread 'MainThread': missing ScriptRunContext! This warning can be ignored when running in bare mode.\n",
      "2024-10-24 19:19:00.731 Thread 'MainThread': missing ScriptRunContext! This warning can be ignored when running in bare mode.\n",
      "2024-10-24 19:19:00.734 Thread 'MainThread': missing ScriptRunContext! This warning can be ignored when running in bare mode.\n",
      "2024-10-24 19:19:00.738 Thread 'MainThread': missing ScriptRunContext! This warning can be ignored when running in bare mode.\n",
      "2024-10-24 19:19:00.741 Thread 'MainThread': missing ScriptRunContext! This warning can be ignored when running in bare mode.\n",
      "2024-10-24 19:19:00.744 Thread 'MainThread': missing ScriptRunContext! This warning can be ignored when running in bare mode.\n",
      "2024-10-24 19:19:00.746 Thread 'MainThread': missing ScriptRunContext! This warning can be ignored when running in bare mode.\n",
      "2024-10-24 19:19:00.750 Thread 'MainThread': missing ScriptRunContext! This warning can be ignored when running in bare mode.\n",
      "2024-10-24 19:19:00.756 Thread 'MainThread': missing ScriptRunContext! This warning can be ignored when running in bare mode.\n",
      "2024-10-24 19:19:00.762 Thread 'MainThread': missing ScriptRunContext! This warning can be ignored when running in bare mode.\n",
      "2024-10-24 19:19:00.764 Thread 'MainThread': missing ScriptRunContext! This warning can be ignored when running in bare mode.\n",
      "2024-10-24 19:19:00.766 Thread 'MainThread': missing ScriptRunContext! This warning can be ignored when running in bare mode.\n"
     ]
    }
   ],
   "source": [
    "import streamlit as st\n",
    "import torch\n",
    "import re\n",
    "\n",
    "# Load model and dictionaries (replace these with actual paths)\n",
    "# checkpoint = torch.load('path/to/your/model.pth', map_location='cpu')\n",
    "# model.load_state_dict(checkpoint['model_state_dict'])\n",
    "# model.eval()  # Set the model to evaluation mode\n",
    "\n",
    "# Example stoi and itos dictionaries (replace with actual ones)\n",
    "# stoi = {'the': 1, 'cat': 2, 'sat': 3, 'on': 4, 'mat': 5}\n",
    "# itos = {v: k for k, v in stoi.items()}\n",
    "\n",
    "# Define your model, or load a pretrained model\n",
    "# model = YourModelClass()\n",
    "\n",
    "# Function to preprocess input\n",
    "def preprocess_input(sentence, stoi, block_size):\n",
    "    sentence = sentence.lower()\n",
    "    sentence = re.sub(r'[^a-z\\s\\.]', '', sentence)\n",
    "    words = sentence.split()\n",
    "    words = [word for word in words if word]\n",
    "    context = [0] * block_size\n",
    "    for i in range(block_size):\n",
    "        if i < len(words):\n",
    "            word = words[i]\n",
    "            context[i] = stoi.get(word, 0)\n",
    "        else:\n",
    "            context[i] = 0\n",
    "    return context\n",
    "\n",
    "# Predict next k words\n",
    "def predict_next_k_words(model, input_indices, k, index_to_word):\n",
    "    model.eval()  # Set the model to evaluation mode\n",
    "    predictions = []\n",
    "    input_tensor = torch.tensor(input_indices).unsqueeze(0)  # Add batch dimension\n",
    "    \n",
    "    # Limit input length to the last 5 words for context\n",
    "    if len(input_tensor[0]) > 5:\n",
    "        input_tensor = input_tensor[:, -5:]\n",
    "    \n",
    "    with torch.no_grad():  # No gradients needed for prediction\n",
    "        for _ in range(k):\n",
    "            output = model(input_tensor)  # Forward pass\n",
    "            predicted_index = torch.argmax(output[:, -1, :], dim=1).item()  # Predict next word\n",
    "            predicted_word = index_to_word[predicted_index]\n",
    "            predictions.append(predicted_word)\n",
    "            \n",
    "            # Update input for next prediction\n",
    "            input_indices.append(predicted_index)\n",
    "            input_tensor = torch.tensor(input_indices[-5:]).unsqueeze(0)  # Keep last 5 words as input\n",
    "    \n",
    "    return predictions\n",
    "\n",
    "# Streamlit App\n",
    "st.title(\"Next Word Prediction App\")\n",
    "\n",
    "# User input\n",
    "input_text = st.text_input(\"Enter initial text for prediction:\", \"The cat sat\")\n",
    "context_length = st.slider(\"Context Length\", 1, 5, 5)\n",
    "max_len = st.slider(\"Number of words to predict\", 1, 10, 5)\n",
    "\n",
    "# Placeholder stoi and itos (replace with actual ones)\n",
    "stoi = {'the': 1, 'cat': 2, 'sat': 3, 'on': 4, 'mat': 5, '.': 6}\n",
    "itos = {v: k for k, v in stoi.items()}\n",
    "block_size = context_length  # Block size for the model's input\n",
    "\n",
    "# Button to generate text\n",
    "if st.button(\"Generate Text\"):\n",
    "    input_indices = preprocess_input(input_text, stoi, block_size)  # Preprocess input\n",
    "    generated_text = predict_next_k_words(model, input_indices, max_len, itos)\n",
    "    \n",
    "    # Display result\n",
    "    st.write(\"Generated text:\", input_text + \" \" + \" \".join(generated_text))\n"
   ]
  },
  {
   "cell_type": "code",
   "execution_count": 11,
   "metadata": {},
   "outputs": [
    {
     "ename": "SyntaxError",
     "evalue": "invalid syntax (595227194.py, line 1)",
     "output_type": "error",
     "traceback": [
      "\u001b[1;36m  Cell \u001b[1;32mIn[11], line 1\u001b[1;36m\u001b[0m\n\u001b[1;33m    streamlit run\u001b[0m\n\u001b[1;37m              ^\u001b[0m\n\u001b[1;31mSyntaxError\u001b[0m\u001b[1;31m:\u001b[0m invalid syntax\n"
     ]
    }
   ],
   "source": [
    "streamlit run \n"
   ]
  },
  {
   "cell_type": "code",
   "execution_count": 13,
   "metadata": {},
   "outputs": [
    {
     "ename": "SyntaxError",
     "evalue": "invalid syntax (507122745.py, line 1)",
     "output_type": "error",
     "traceback": [
      "\u001b[1;36m  Cell \u001b[1;32mIn[13], line 1\u001b[1;36m\u001b[0m\n\u001b[1;33m    streamlit run app.py\u001b[0m\n\u001b[1;37m              ^\u001b[0m\n\u001b[1;31mSyntaxError\u001b[0m\u001b[1;31m:\u001b[0m invalid syntax\n"
     ]
    }
   ],
   "source": [
    "streamlit run app.py\n"
   ]
  }
 ],
 "metadata": {
  "kernelspec": {
   "display_name": "Python 3",
   "language": "python",
   "name": "python3"
  },
  "language_info": {
   "codemirror_mode": {
    "name": "ipython",
    "version": 3
   },
   "file_extension": ".py",
   "mimetype": "text/x-python",
   "name": "python",
   "nbconvert_exporter": "python",
   "pygments_lexer": "ipython3",
   "version": "3.11.5"
  },
  "orig_nbformat": 4
 },
 "nbformat": 4,
 "nbformat_minor": 2
}
